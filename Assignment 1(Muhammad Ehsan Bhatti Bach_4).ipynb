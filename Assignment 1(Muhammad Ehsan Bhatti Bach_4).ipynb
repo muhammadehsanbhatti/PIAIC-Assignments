{
 "cells": [
  {
   "cell_type": "code",
   "execution_count": 32,
   "metadata": {},
   "outputs": [
    {
     "name": "stdout",
     "output_type": "stream",
     "text": [
      "Muhammad Ehsan Bhatti\n",
      "Ehsan bhatti\n"
     ]
    }
   ],
   "source": [
    "#Simple print String\n",
    "name1 = \"Muhammad Ehsan Bhatti\"\n",
    "name2 = \"Ehsan bhatti\"\n",
    "print(name1)\n",
    "print(name2)"
   ]
  },
  {
   "cell_type": "code",
   "execution_count": 33,
   "metadata": {},
   "outputs": [
    {
     "name": "stdout",
     "output_type": "stream",
     "text": [
      "Muhammad Ehsan Bhatti\n",
      "MUHAMMAD EHSAN BHATTI\n",
      "Ehsan bhatti\n",
      "EHSAN BHATTI\n"
     ]
    }
   ],
   "source": [
    "#Upper method\n",
    "print(name1)\n",
    "print(name1.upper())\n",
    "print(name2)\n",
    "print(name2.upper())"
   ]
  },
  {
   "cell_type": "code",
   "execution_count": 34,
   "metadata": {},
   "outputs": [
    {
     "name": "stdout",
     "output_type": "stream",
     "text": [
      "Muhammad Ehsan Bhatti\n",
      "muhammad ehsan bhatti\n",
      "Ehsan bhatti\n",
      "ehsan bhatti\n"
     ]
    }
   ],
   "source": [
    "#Lower methdo\n",
    "print(name1)\n",
    "print (name1.lower())\n",
    "print(name2)\n",
    "print(name2.lower())"
   ]
  },
  {
   "cell_type": "code",
   "execution_count": 35,
   "metadata": {},
   "outputs": [
    {
     "name": "stdout",
     "output_type": "stream",
     "text": [
      "Ehsan bhatti\n",
      "Ehsan Bhatti\n"
     ]
    }
   ],
   "source": [
    "#title method\n",
    "print(name2)\n",
    "print(name2.title())"
   ]
  },
  {
   "cell_type": "code",
   "execution_count": 38,
   "metadata": {},
   "outputs": [
    {
     "name": "stdout",
     "output_type": "stream",
     "text": [
      "P\n",
      "7\n"
     ]
    }
   ],
   "source": [
    "#find method\n",
    "e=\"I Love Pakistan and I Live In Pakistan\"\n",
    "print(e[7])\n",
    "print(e.find(\"Pakistan\"))"
   ]
  },
  {
   "cell_type": "code",
   "execution_count": 41,
   "metadata": {},
   "outputs": [
    {
     "name": "stdout",
     "output_type": "stream",
     "text": [
      "I was born in rawalpindi\n",
      "I am years 20 old\n"
     ]
    }
   ],
   "source": [
    "#format function\n",
    "print(\"I was born in {}\".format(\"rawalpindi\"))\n",
    "print(\"I am years {} old\".format(20))\n"
   ]
  },
  {
   "cell_type": "code",
   "execution_count": 42,
   "metadata": {},
   "outputs": [
    {
     "name": "stdout",
     "output_type": "stream",
     "text": [
      "ai class attendendence\n"
     ]
    }
   ],
   "source": [
    "#casefold method\n",
    "t=\"AI CLAss AttendENdence\"\n",
    "print(t.casefold())"
   ]
  },
  {
   "cell_type": "code",
   "execution_count": 43,
   "metadata": {},
   "outputs": [
    {
     "name": "stdout",
     "output_type": "stream",
     "text": [
      "      Pakistan      \n"
     ]
    }
   ],
   "source": [
    "#center method\n",
    "c=\"Pakistan\"\n",
    "print(c.center(20))"
   ]
  },
  {
   "cell_type": "code",
   "execution_count": 44,
   "metadata": {},
   "outputs": [
    {
     "name": "stdout",
     "output_type": "stream",
     "text": [
      "2\n"
     ]
    }
   ],
   "source": [
    "#count method\n",
    "v=\"I Love Pakistan Long Live Pakistan \"\n",
    "print(v.count(\"Pakistan\"))"
   ]
  },
  {
   "cell_type": "code",
   "execution_count": 45,
   "metadata": {},
   "outputs": [
    {
     "name": "stdout",
     "output_type": "stream",
     "text": [
      "b'I love Pakistan'\n"
     ]
    }
   ],
   "source": [
    "#encode method\n",
    "x=\"I love Pakistan\"\n",
    "print(x.encode())"
   ]
  },
  {
   "cell_type": "code",
   "execution_count": 47,
   "metadata": {},
   "outputs": [
    {
     "name": "stdout",
     "output_type": "stream",
     "text": [
      "False\n"
     ]
    }
   ],
   "source": [
    "#endswith method\n",
    "print(x.endswith(\"a\"))"
   ]
  },
  {
   "cell_type": "code",
   "execution_count": 54,
   "metadata": {},
   "outputs": [
    {
     "name": "stdout",
     "output_type": "stream",
     "text": [
      "P   a   k   i   s t a n\n"
     ]
    }
   ],
   "source": [
    "#expand method\n",
    "h= \"P\\t\\ta\\t\\tk\\t\\ti\\t\\ts\\tt\\ta\\tn\"\n",
    "print(h.expandtabs(2))"
   ]
  },
  {
   "cell_type": "code",
   "execution_count": 58,
   "metadata": {},
   "outputs": [
    {
     "name": "stdout",
     "output_type": "stream",
     "text": [
      "8\n"
     ]
    }
   ],
   "source": [
    "#index method\n",
    "print(x.index(\"a\"))"
   ]
  },
  {
   "cell_type": "code",
   "execution_count": 63,
   "metadata": {},
   "outputs": [
    {
     "name": "stdout",
     "output_type": "stream",
     "text": [
      "True\n"
     ]
    }
   ],
   "source": [
    "#isalnum method\n",
    "y= \"assignment1\"\n",
    "print(y.isalnum())"
   ]
  },
  {
   "cell_type": "code",
   "execution_count": 64,
   "metadata": {},
   "outputs": [
    {
     "name": "stdout",
     "output_type": "stream",
     "text": [
      "False\n"
     ]
    }
   ],
   "source": [
    "#isalpha method\n",
    "print(y.isalpha())"
   ]
  },
  {
   "cell_type": "code",
   "execution_count": 65,
   "metadata": {},
   "outputs": [
    {
     "name": "stdout",
     "output_type": "stream",
     "text": [
      "True\n"
     ]
    }
   ],
   "source": [
    "#isascii method\n",
    "print(y.isascii())"
   ]
  },
  {
   "cell_type": "code",
   "execution_count": 66,
   "metadata": {},
   "outputs": [
    {
     "name": "stdout",
     "output_type": "stream",
     "text": [
      "False\n"
     ]
    }
   ],
   "source": [
    "#isdecimal method\n",
    "u = \"assignment\"\n",
    "print(u.isdecimal())"
   ]
  },
  {
   "cell_type": "code",
   "execution_count": 67,
   "metadata": {},
   "outputs": [
    {
     "name": "stdout",
     "output_type": "stream",
     "text": [
      "False\n"
     ]
    }
   ],
   "source": [
    "#isdigit method\n",
    "print(u.isdigit())"
   ]
  },
  {
   "cell_type": "code",
   "execution_count": 3,
   "metadata": {},
   "outputs": [
    {
     "name": "stdout",
     "output_type": "stream",
     "text": [
      "True\n"
     ]
    }
   ],
   "source": [
    "#islower method\n",
    "r = \"assignm\"\n",
    "print(r.islower())"
   ]
  },
  {
   "cell_type": "code",
   "execution_count": 4,
   "metadata": {},
   "outputs": [
    {
     "name": "stdout",
     "output_type": "stream",
     "text": [
      "True\n"
     ]
    }
   ],
   "source": [
    "#isidentifier method\n",
    "print(r.isidentifier())"
   ]
  },
  {
   "cell_type": "code",
   "execution_count": 5,
   "metadata": {},
   "outputs": [
    {
     "name": "stdout",
     "output_type": "stream",
     "text": [
      "False\n"
     ]
    }
   ],
   "source": [
    "#isnumberic method\n",
    "print(r.isnumeric())"
   ]
  },
  {
   "cell_type": "code",
   "execution_count": 6,
   "metadata": {},
   "outputs": [
    {
     "name": "stdout",
     "output_type": "stream",
     "text": [
      "True\n"
     ]
    }
   ],
   "source": [
    "#isprintable  method\n",
    "print(r.isprintable())"
   ]
  },
  {
   "cell_type": "code",
   "execution_count": 7,
   "metadata": {},
   "outputs": [
    {
     "name": "stdout",
     "output_type": "stream",
     "text": [
      "False\n"
     ]
    }
   ],
   "source": [
    "#isspace\n",
    "print(r.isspace())"
   ]
  },
  {
   "cell_type": "code",
   "execution_count": 8,
   "metadata": {},
   "outputs": [
    {
     "name": "stdout",
     "output_type": "stream",
     "text": [
      "False\n"
     ]
    }
   ],
   "source": [
    "#istitle method\n",
    "print(r.istitle())"
   ]
  },
  {
   "cell_type": "code",
   "execution_count": 9,
   "metadata": {},
   "outputs": [
    {
     "name": "stdout",
     "output_type": "stream",
     "text": [
      "True\n"
     ]
    }
   ],
   "source": [
    "#isupper method\n",
    "w=\"ASSIGNMENT\"\n",
    "print(w.isupper())"
   ]
  },
  {
   "cell_type": "code",
   "execution_count": 14,
   "metadata": {},
   "outputs": [
    {
     "ename": "AttributeError",
     "evalue": "'tuple' object has no attribute 'join'",
     "output_type": "error",
     "traceback": [
      "\u001b[1;31m---------------------------------------------------------------------------\u001b[0m",
      "\u001b[1;31mAttributeError\u001b[0m                            Traceback (most recent call last)",
      "\u001b[1;32m<ipython-input-14-f50990f5e8b6>\u001b[0m in \u001b[0;36m<module>\u001b[1;34m\u001b[0m\n\u001b[0;32m      1\u001b[0m \u001b[0mx\u001b[0m\u001b[1;33m=\u001b[0m\u001b[1;33m(\u001b[0m\u001b[1;34m\"ahsan\"\u001b[0m\u001b[1;33m,\u001b[0m\u001b[1;34m\"bhatti\"\u001b[0m\u001b[1;33m,\u001b[0m\u001b[1;34m\"ali\"\u001b[0m\u001b[1;33m)\u001b[0m\u001b[1;33m\u001b[0m\u001b[1;33m\u001b[0m\u001b[0m\n\u001b[0;32m      2\u001b[0m \u001b[0my\u001b[0m\u001b[1;33m=\u001b[0m \u001b[1;33m(\u001b[0m\u001b[1;34m\"ehsan\"\u001b[0m\u001b[1;33m,\u001b[0m\u001b[1;34m\"total\"\u001b[0m\u001b[1;33m)\u001b[0m\u001b[1;33m\u001b[0m\u001b[1;33m\u001b[0m\u001b[0m\n\u001b[1;32m----> 3\u001b[1;33m \u001b[0mprint\u001b[0m\u001b[1;33m(\u001b[0m\u001b[0mx\u001b[0m\u001b[1;33m.\u001b[0m\u001b[0mjoin\u001b[0m\u001b[1;33m(\u001b[0m\u001b[0my\u001b[0m\u001b[1;33m)\u001b[0m\u001b[1;33m)\u001b[0m\u001b[1;33m\u001b[0m\u001b[1;33m\u001b[0m\u001b[0m\n\u001b[0m",
      "\u001b[1;31mAttributeError\u001b[0m: 'tuple' object has no attribute 'join'"
     ]
    }
   ],
   "source": [
    "#join method\n",
    "x=(\"ahsan\",\"bhatti\",\"ali\")\n",
    "y= (\"ehsan\",\"total\")\n",
    "print(x.join(y))"
   ]
  },
  {
   "cell_type": "code",
   "execution_count": 15,
   "metadata": {},
   "outputs": [
    {
     "name": "stdout",
     "output_type": "stream",
     "text": [
      "monkey  \n"
     ]
    }
   ],
   "source": [
    "#ljust method\n",
    "a=\"monkey\"\n",
    "width=8\n",
    "print(a.ljust(width))"
   ]
  },
  {
   "cell_type": "code",
   "execution_count": 18,
   "metadata": {},
   "outputs": [
    {
     "name": "stdout",
     "output_type": "stream",
     "text": [
      "my favorite fruit is  apple\n"
     ]
    }
   ],
   "source": [
    "#lstrip method\n",
    "b=\"apple\"\n",
    "\n",
    "print(\"my favorite fruit is \" ,b)"
   ]
  },
  {
   "cell_type": "code",
   "execution_count": 19,
   "metadata": {},
   "outputs": [
    {
     "name": "stdout",
     "output_type": "stream",
     "text": [
      "{97: 12}\n"
     ]
    }
   ],
   "source": [
    "#maketrans method\n",
    "r = {97: 12}\n",
    "s = \"abc\"\n",
    "print(s.maketrans(r))"
   ]
  },
  {
   "cell_type": "code",
   "execution_count": 20,
   "metadata": {},
   "outputs": [
    {
     "name": "stdout",
     "output_type": "stream",
     "text": [
      "('ahsan ', 'muhammad', ' bhatti')\n"
     ]
    }
   ],
   "source": [
    "#partition method\n",
    "a= \"ahsan muhammad bhatti\"\n",
    "print(a.partition(\"muhammad\"))"
   ]
  },
  {
   "cell_type": "code",
   "execution_count": 21,
   "metadata": {},
   "outputs": [
    {
     "name": "stdout",
     "output_type": "stream",
     "text": [
      " I like banana\n"
     ]
    }
   ],
   "source": [
    "#replace method\n",
    "a= \" I like apple\"\n",
    "print(a.replace(\"apple\",\"banana\"))"
   ]
  },
  {
   "cell_type": "code",
   "execution_count": 22,
   "metadata": {},
   "outputs": [
    {
     "name": "stdout",
     "output_type": "stream",
     "text": [
      "19\n"
     ]
    }
   ],
   "source": [
    "#rfind method \n",
    "a= \"i like apple and i like banana\"\n",
    "print(a.rfind(\"like\"))"
   ]
  },
  {
   "cell_type": "code",
   "execution_count": 23,
   "metadata": {},
   "outputs": [
    {
     "name": "stdout",
     "output_type": "stream",
     "text": [
      "13\n"
     ]
    }
   ],
   "source": [
    "#rindex method\n",
    "print(a.rindex(\"and\"))"
   ]
  },
  {
   "cell_type": "code",
   "execution_count": 26,
   "metadata": {},
   "outputs": [
    {
     "name": "stdout",
     "output_type": "stream",
     "text": [
      "            i like banana\n"
     ]
    }
   ],
   "source": [
    "#rjust method\n",
    "a= \"i like banana\"\n",
    "print(a.rjust(25))"
   ]
  },
  {
   "cell_type": "code",
   "execution_count": 28,
   "metadata": {},
   "outputs": [
    {
     "name": "stdout",
     "output_type": "stream",
     "text": [
      "('i like ', 'banana', '')\n"
     ]
    }
   ],
   "source": [
    "#rpartition method\n",
    "print(a.rpartition(\"banana\"))"
   ]
  },
  {
   "cell_type": "code",
   "execution_count": 30,
   "metadata": {},
   "outputs": [
    {
     "name": "stdout",
     "output_type": "stream",
     "text": [
      "['i like banana']\n"
     ]
    }
   ],
   "source": [
    "#rsplit mehtod\n",
    "print(a.rsplit(\",\"))"
   ]
  },
  {
   "cell_type": "code",
   "execution_count": 31,
   "metadata": {},
   "outputs": [
    {
     "name": "stdout",
     "output_type": "stream",
     "text": [
      "i like banana\n"
     ]
    }
   ],
   "source": [
    "#rstrip method\n",
    "print(a.rstrip())"
   ]
  },
  {
   "cell_type": "code",
   "execution_count": 32,
   "metadata": {},
   "outputs": [
    {
     "name": "stdout",
     "output_type": "stream",
     "text": [
      "['i', 'like', 'banana']\n"
     ]
    }
   ],
   "source": [
    "#split method\n",
    "print(a.split())"
   ]
  },
  {
   "cell_type": "code",
   "execution_count": 36,
   "metadata": {},
   "outputs": [
    {
     "name": "stdout",
     "output_type": "stream",
     "text": [
      "['i like to eat mango\\\\i like to eat banana']\n"
     ]
    }
   ],
   "source": [
    "#splitlines method\n",
    "t =\"i like to eat mango\\i like to eat banana\"\n",
    "print(t.splitlines())"
   ]
  },
  {
   "cell_type": "code",
   "execution_count": 37,
   "metadata": {},
   "outputs": [
    {
     "name": "stdout",
     "output_type": "stream",
     "text": [
      "False\n"
     ]
    }
   ],
   "source": [
    "#startswith method\n",
    "print(t.startswith(\"l\"))"
   ]
  },
  {
   "cell_type": "code",
   "execution_count": 40,
   "metadata": {},
   "outputs": [
    {
     "name": "stdout",
     "output_type": "stream",
     "text": [
      "my favorite fruit is apple\n"
     ]
    }
   ],
   "source": [
    "#strip method\n",
    "x= \"apple\"\n",
    "print(\"my favorite fruit is\",x.strip())"
   ]
  },
  {
   "cell_type": "code",
   "execution_count": 42,
   "metadata": {},
   "outputs": [
    {
     "name": "stdout",
     "output_type": "stream",
     "text": [
      "HelO\n"
     ]
    }
   ],
   "source": [
    "#swapcase method\n",
    "r = \"hELo\"\n",
    "print(r.swapcase())"
   ]
  },
  {
   "cell_type": "code",
   "execution_count": 46,
   "metadata": {},
   "outputs": [
    {
     "name": "stdout",
     "output_type": "stream",
     "text": [
      "010\n"
     ]
    }
   ],
   "source": [
    "#zfill method\n",
    "a=\"10\"\n",
    "print(a.zfill(3))"
   ]
  },
  {
   "cell_type": "code",
   "execution_count": null,
   "metadata": {},
   "outputs": [],
   "source": []
  }
 ],
 "metadata": {
  "kernelspec": {
   "display_name": "Python 3",
   "language": "python",
   "name": "python3"
  },
  "language_info": {
   "codemirror_mode": {
    "name": "ipython",
    "version": 3
   },
   "file_extension": ".py",
   "mimetype": "text/x-python",
   "name": "python",
   "nbconvert_exporter": "python",
   "pygments_lexer": "ipython3",
   "version": "3.7.4"
  }
 },
 "nbformat": 4,
 "nbformat_minor": 2
}
